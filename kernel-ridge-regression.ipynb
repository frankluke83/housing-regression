{
 "cells": [
  {
   "cell_type": "markdown",
   "metadata": {},
   "source": [
    "# Kernel Ridge Regression"
   ]
  },
  {
   "cell_type": "code",
   "execution_count": 21,
   "metadata": {},
   "outputs": [],
   "source": [
    "%matplotlib inline\n",
    "import numpy as np\n",
    "import pandas as pd\n",
    "from pandas import Series, DataFrame\n",
    "import pickle\n",
    "from sklearn.metrics import mean_squared_error as mse\n",
    "from sklearn.model_selection import cross_val_score\n",
    "from sklearn.model_selection import KFold\n",
    "from sklearn.preprocessing import RobustScaler\n",
    "from sklearn.pipeline import make_pipeline\n",
    "from sklearn.kernel_ridge import KernelRidge\n",
    "from sklearn.model_selection import GridSearchCV\n",
    "\n",
    "# environment settings\n",
    "data_path = 'Data/'\n",
    "\n",
    "# Deserialize previously saved data from \"preprocessing\"\n",
    "with open(data_path+'train_pp.obj', 'rb') as train_pp, \\\n",
    "open(data_path+'test_pp.obj','rb') as test_pp:\n",
    "    train_df = pickle.load(train_pp)\n",
    "    test_df = pickle.load(test_pp)\n",
    "train_df[\"SalePrice\"] = np.log1p(train_df[\"SalePrice\"])"
   ]
  },
  {
   "cell_type": "code",
   "execution_count": 22,
   "metadata": {},
   "outputs": [
    {
     "name": "stdout",
     "output_type": "stream",
     "text": [
      "Shape of training set (1460, 303).\n",
      "Shape of test set (1460,)\n"
     ]
    }
   ],
   "source": [
    "X = train_df.loc[:,'Id':'SaleCondition_Partial']\n",
    "y = train_df['SalePrice']\n",
    "print(\"Shape of training set {}.\\nShape of test set {}\".format(X.shape,y.shape))"
   ]
  },
  {
   "cell_type": "code",
   "execution_count": 23,
   "metadata": {},
   "outputs": [
    {
     "name": "stdout",
     "output_type": "stream",
     "text": [
      "The 10-fold crossvalidation RMSE is 0.13981 +/- 0.026 \n"
     ]
    }
   ],
   "source": [
    "KRR = KernelRidge(alpha=10,gamma=1, kernel='polynomial', degree=1)\n",
    "kf = KFold(5, shuffle=True, random_state=42).get_n_splits(X)\n",
    "rmse_cv= np.sqrt(-cross_val_score(KRR, X, y, scoring=\"neg_mean_squared_error\", cv = kf))\n",
    "\n",
    "print(\"The 10-fold crossvalidation RMSE is {:.5f} +/- {:.3f} \".format(rmse_cv.mean(),rmse_cv.std()))"
   ]
  },
  {
   "cell_type": "code",
   "execution_count": 18,
   "metadata": {
    "collapsed": true
   },
   "outputs": [],
   "source": [
    "#Prediction on real test set using KRR\n",
    "KRR = KernelRidge(alpha=10.0,gamma=1, kernel='linear', degree=1)\n",
    "KRR.fit(X,y)\n",
    "pred_results =KRR.predict(test_df)\n",
    "result_df = pd.DataFrame(data={'Id': test_df[\"Id\"].values,\n",
    "                               'SalePrice': pred_results})\n",
    "#Create output csv file\n",
    "result_df.to_csv(data_path+\"outputs/kernel_ridge_a_1\", index=False)"
   ]
  },
  {
   "cell_type": "code",
   "execution_count": null,
   "metadata": {
    "collapsed": true
   },
   "outputs": [],
   "source": []
  }
 ],
 "metadata": {
  "kernelspec": {
   "display_name": "Python 3",
   "language": "python",
   "name": "python3"
  },
  "language_info": {
   "codemirror_mode": {
    "name": "ipython",
    "version": 3
   },
   "file_extension": ".py",
   "mimetype": "text/x-python",
   "name": "python",
   "nbconvert_exporter": "python",
   "pygments_lexer": "ipython3",
   "version": "3.6.2"
  }
 },
 "nbformat": 4,
 "nbformat_minor": 2
}
