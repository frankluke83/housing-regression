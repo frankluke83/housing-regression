{
 "cells": [
  {
   "cell_type": "code",
   "execution_count": 7,
   "metadata": {
    "collapsed": true
   },
   "outputs": [],
   "source": [
    "%matplotlib inline\n",
    "import numpy as np\n",
    "import pandas as pd\n",
    "from pandas import Series, DataFrame\n",
    "import pickle\n",
    "from sklearn.metrics import mean_squared_error as mse\n",
    "from sklearn.model_selection import cross_val_score,KFold\n",
    "from sklearn.ensemble import GradientBoostingRegressor\n",
    "from sklearn.preprocessing import RobustScaler\n",
    "\n",
    "\n",
    "\n",
    "import warnings\n",
    "\n",
    "\n",
    "warnings.filterwarnings(\"ignore\")\n",
    "\n",
    "# environment settings\n",
    "data_path = 'Data/'\n",
    "\n",
    "# Deserialize previously saved data from \"preprocessing\"\n",
    "with open(data_path+'train_pp.obj', 'rb') as train_pp, \\\n",
    "open(data_path+'test_pp.obj','rb') as test_pp:\n",
    "    train_df = pickle.load(train_pp)\n",
    "    test_df = pickle.load(test_pp)\n",
    "train_df[\"SalePrice\"] = np.log1p(train_df[\"SalePrice\"])"
   ]
  },
  {
   "cell_type": "code",
   "execution_count": 8,
   "metadata": {},
   "outputs": [
    {
     "name": "stdout",
     "output_type": "stream",
     "text": [
      "Shape of training set (1456, 349).\n",
      "Shape of test set (1456,)\n"
     ]
    }
   ],
   "source": [
    "X = train_df.loc[:,'Id':'2ndFlrSF-Sq']\n",
    "y = train_df['SalePrice']\n",
    "print(\"Shape of training set {}.\\nShape of test set {}\".format(X.shape,y.shape))"
   ]
  },
  {
   "cell_type": "code",
   "execution_count": 9,
   "metadata": {
    "collapsed": true
   },
   "outputs": [],
   "source": [
    "scaler = RobustScaler()\n",
    "X_scaled=scaler.fit(X).transform(X)\n",
    "test_scaled=scaler.transform(test_df)"
   ]
  },
  {
   "cell_type": "code",
   "execution_count": null,
   "metadata": {
    "collapsed": true
   },
   "outputs": [],
   "source": []
  },
  {
   "cell_type": "code",
   "execution_count": 11,
   "metadata": {},
   "outputs": [
    {
     "name": "stdout",
     "output_type": "stream",
     "text": [
      "The 10-fold crossvalidation RMSE of GBoost is 0.10942 +/- 0.017\n"
     ]
    }
   ],
   "source": [
    "gBoost = GradientBoostingRegressor(n_estimators=3000, learning_rate=0.02,\n",
    "                                   max_depth=3, max_features='sqrt', \n",
    "                                   loss='huber', random_state =5)\n",
    "\n",
    "kf = KFold(10, shuffle=True, random_state=42).get_n_splits(X_scaled)\n",
    "rmse_cv_gB= np.sqrt(-cross_val_score(gBoost, X, y, scoring=\"neg_mean_squared_error\", cv = kf))\n",
    "print(\"The 10-fold crossvalidation RMSE of GBoost is {:.5f} +/- {:.3f}\".format(rmse_cv_gB.mean(),\n",
    "                                                                               rmse_cv_gB.std()))"
   ]
  },
  {
   "cell_type": "markdown",
   "metadata": {},
   "source": [
    "The 10-fold crossvalidation RMSE of GBoost is 0.10882 +/- 0.017 <br>\n",
    "gBoost = GradientBoostingRegressor(n_estimators=4000, learning_rate=0.03, <br>\n",
    "                                   max_depth=2, max_features='sqrt', <br>\n",
    "                                   loss='huber', random_state =5)"
   ]
  },
  {
   "cell_type": "code",
   "execution_count": 5,
   "metadata": {
    "collapsed": true
   },
   "outputs": [],
   "source": [
    "#Prediction on real test set using GBoost\n",
    "gBoost.fit(X_scaled,y)\n",
    "pred_results =gBoost.predict(test_scaled)\n",
    "pred_results = np.expm1(pred_results)\n",
    "result_df = pd.DataFrame(data={'Id': test_df[\"Id\"].values,\n",
    "                               'SalePrice': pred_results})\n",
    "#Create output csv file\n",
    "result_df.to_csv(data_path+\"outputs/gb_3000\", index=False)"
   ]
  },
  {
   "cell_type": "code",
   "execution_count": null,
   "metadata": {
    "collapsed": true
   },
   "outputs": [],
   "source": []
  }
 ],
 "metadata": {
  "kernelspec": {
   "display_name": "Python 3",
   "language": "python",
   "name": "python3"
  },
  "language_info": {
   "codemirror_mode": {
    "name": "ipython",
    "version": 3
   },
   "file_extension": ".py",
   "mimetype": "text/x-python",
   "name": "python",
   "nbconvert_exporter": "python",
   "pygments_lexer": "ipython3",
   "version": "3.6.2"
  }
 },
 "nbformat": 4,
 "nbformat_minor": 2
}
