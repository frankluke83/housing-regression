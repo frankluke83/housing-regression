{
 "cells": [
  {
   "cell_type": "code",
   "execution_count": 1,
   "metadata": {
    "collapsed": true
   },
   "outputs": [],
   "source": [
    "%matplotlib inline\n",
    "import numpy as np\n",
    "import pandas as pd\n",
    "from pandas import Series, DataFrame\n",
    "import pickle\n",
    "from sklearn.metrics import mean_squared_error as mse\n",
    "from sklearn.model_selection import cross_val_score,KFold\n",
    "from sklearn.preprocessing import RobustScaler\n",
    "from xgboost import XGBRegressor\n",
    "\n",
    "\n",
    "\n",
    "import warnings\n",
    "\n",
    "\n",
    "warnings.filterwarnings(\"ignore\")\n",
    "\n",
    "# environment settings\n",
    "data_path = 'Data/'\n",
    "\n",
    "# Deserialize previously saved data from \"preprocessing\"\n",
    "with open(data_path+'train_pp.obj', 'rb') as train_pp, \\\n",
    "open(data_path+'test_pp.obj','rb') as test_pp:\n",
    "    train_df = pickle.load(train_pp)\n",
    "    test_df = pickle.load(test_pp)\n",
    "train_df[\"SalePrice\"] = np.log1p(train_df[\"SalePrice\"])"
   ]
  },
  {
   "cell_type": "code",
   "execution_count": null,
   "metadata": {
    "collapsed": true
   },
   "outputs": [],
   "source": []
  },
  {
   "cell_type": "code",
   "execution_count": 2,
   "metadata": {},
   "outputs": [
    {
     "name": "stdout",
     "output_type": "stream",
     "text": [
      "Shape of training set (1456, 304).\n",
      "Shape of test set (1456,)\n"
     ]
    }
   ],
   "source": [
    "X = train_df.loc[:,'Id':'SaleCondition_Partial']\n",
    "y = train_df['SalePrice']\n",
    "print(\"Shape of training set {}.\\nShape of test set {}\".format(X.shape,y.shape))"
   ]
  },
  {
   "cell_type": "code",
   "execution_count": 3,
   "metadata": {
    "collapsed": true
   },
   "outputs": [],
   "source": [
    "scaler = RobustScaler()\n",
    "X_scaled=scaler.fit(X).transform(X)\n",
    "test_scaled=scaler.transform(test_df)"
   ]
  },
  {
   "cell_type": "code",
   "execution_count": 4,
   "metadata": {},
   "outputs": [
    {
     "name": "stdout",
     "output_type": "stream",
     "text": [
      "The 10-fold crossvalidation RMSE of XGB is 0.11041 +/- 0.015\n"
     ]
    }
   ],
   "source": [
    "xgb= XGBRegressor(colsample_bytree=0.1, gamma=0.03, \n",
    "                             learning_rate=0.02, max_depth=3, \n",
    "                             n_estimators=3000,\n",
    "                             subsample=0.5213, silent=1,\n",
    "                             random_state =7, nthread = -1)\n",
    "\n",
    "kf = KFold(10, shuffle=True, random_state=42).get_n_splits(X)\n",
    "rmse_cv_xgb= np.sqrt(-cross_val_score(xgb, X, y, scoring=\"neg_mean_squared_error\", cv = kf))\n",
    "print(\"The 10-fold crossvalidation RMSE of XGB is {:.5f} +/- {:.3f}\".format(rmse_cv_xgb.mean(),\n",
    "                                                                               rmse_cv_xgb.std()))"
   ]
  },
  {
   "cell_type": "markdown",
   "metadata": {},
   "source": [
    "The 10-fold crossvalidation RMSE of XGB is 0.11410 +/- 0.015 <br>\n",
    "(colsample_bytree=0.4603, gamma=0.0468, <br>\n",
    "                             learning_rate=0.05, max_depth=3 , <br>\n",
    "                             min_child_weight=1.7817, n_estimators=2200,<br>\n",
    "                             reg_alpha=0.4640, reg_lambda=0.8571, <br>\n",
    "                             subsample=0.5213, silent=1,<br>\n",
    "                             random_state =7, nthread = -1)"
   ]
  },
  {
   "cell_type": "code",
   "execution_count": 5,
   "metadata": {
    "collapsed": true
   },
   "outputs": [],
   "source": [
    "#Prediction on real test set using XGB\n",
    "xgb.fit(X,y)\n",
    "pred_results =xgb.predict(test_df)\n",
    "pred_results = np.expm1(pred_results)\n",
    "result_df = pd.DataFrame(data={'Id': test_df[\"Id\"].values,\n",
    "                               'SalePrice': pred_results})\n",
    "#Create output csv file\n",
    "result_df.to_csv(data_path+\"outputs/xgb\", index=False)"
   ]
  },
  {
   "cell_type": "code",
   "execution_count": null,
   "metadata": {
    "collapsed": true
   },
   "outputs": [],
   "source": []
  }
 ],
 "metadata": {
  "kernelspec": {
   "display_name": "Python 3",
   "language": "python",
   "name": "python3"
  },
  "language_info": {
   "codemirror_mode": {
    "name": "ipython",
    "version": 3
   },
   "file_extension": ".py",
   "mimetype": "text/x-python",
   "name": "python",
   "nbconvert_exporter": "python",
   "pygments_lexer": "ipython3",
   "version": "3.6.2"
  }
 },
 "nbformat": 4,
 "nbformat_minor": 2
}
