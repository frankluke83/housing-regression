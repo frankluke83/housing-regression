{
 "cells": [
  {
   "cell_type": "code",
   "execution_count": 25,
   "metadata": {},
   "outputs": [
    {
     "name": "stdout",
     "output_type": "stream",
     "text": [
      "Train set has (1460, 81) features.\n",
      "Test set has (1459, 80) features\n"
     ]
    }
   ],
   "source": [
    "%matplotlib inline\n",
    "import matplotlib.pyplot as plt\n",
    "import matplotlib \n",
    "import numpy as np\n",
    "import pandas as pd\n",
    "from pandas import Series, DataFrame\n",
    "import seaborn as sns\n",
    "import pickle\n",
    "\n",
    "# Environment settings\n",
    "data_path = 'Data/'\n",
    "\n",
    "# load and serialize dataframes for later use in preprocessing notebook\n",
    "train = pd.read_csv(data_path+'train.csv')\n",
    "test = pd.read_csv(data_path+'test.csv')\n",
    "\n",
    "print(\"Train set has {} features.\\nTest set has {} features\" .format(train.shape,test.shape) )"
   ]
  },
  {
   "cell_type": "markdown",
   "metadata": {},
   "source": [
    "# 1.Numeric features"
   ]
  },
  {
   "cell_type": "code",
   "execution_count": 26,
   "metadata": {},
   "outputs": [
    {
     "name": "stdout",
     "output_type": "stream",
     "text": [
      "There are 38 numeric features (46.91% of total) \n",
      "Id                 int64\n",
      "MSSubClass         int64\n",
      "LotFrontage      float64\n",
      "LotArea            int64\n",
      "OverallQual        int64\n",
      "OverallCond        int64\n",
      "YearBuilt          int64\n",
      "YearRemodAdd       int64\n",
      "MasVnrArea       float64\n",
      "BsmtFinSF1         int64\n",
      "BsmtFinSF2         int64\n",
      "BsmtUnfSF          int64\n",
      "TotalBsmtSF        int64\n",
      "1stFlrSF           int64\n",
      "2ndFlrSF           int64\n",
      "LowQualFinSF       int64\n",
      "GrLivArea          int64\n",
      "BsmtFullBath       int64\n",
      "BsmtHalfBath       int64\n",
      "FullBath           int64\n",
      "HalfBath           int64\n",
      "BedroomAbvGr       int64\n",
      "KitchenAbvGr       int64\n",
      "TotRmsAbvGrd       int64\n",
      "Fireplaces         int64\n",
      "GarageYrBlt      float64\n",
      "GarageCars         int64\n",
      "GarageArea         int64\n",
      "WoodDeckSF         int64\n",
      "OpenPorchSF        int64\n",
      "EnclosedPorch      int64\n",
      "3SsnPorch          int64\n",
      "ScreenPorch        int64\n",
      "PoolArea           int64\n",
      "MiscVal            int64\n",
      "MoSold             int64\n",
      "YrSold             int64\n",
      "SalePrice          int64\n",
      "dtype: object\n"
     ]
    }
   ],
   "source": [
    "numeric_features = train.select_dtypes(include=[np.number])\n",
    "print(\"There are {} numeric features ({:.2f}% of total) \".format(numeric_features.shape[1],(numeric_features.shape[1]/train.shape[1])*100))\n",
    "print(numeric_features.dtypes)"
   ]
  },
  {
   "cell_type": "markdown",
   "metadata": {},
   "source": [
    "## 1.1 Missing numeric values"
   ]
  },
  {
   "cell_type": "code",
   "execution_count": 60,
   "metadata": {},
   "outputs": [
    {
     "name": "stdout",
     "output_type": "stream",
     "text": [
      "8.0\n"
     ]
    },
    {
     "data": {
      "image/png": "[encoded data removed]",
      "text/plain": [
       "<matplotlib.figure.Figure at 0x119327320>"
      ]
     },
     "metadata": {},
     "output_type": "display_data"
    }
   ],
   "source": [
    "# Missing values# \n",
    "# number of rows\n",
    "rows_length = numeric_features.shape[0]\n",
    "# fields with missing value count\n",
    "numeric_nan_length = numeric_features.isna().sum().where(lambda x : x > 0).dropna()\n",
    "ax = numeric_nan_length \\\n",
    ".plot(kind='bar', alpha=0.9, title='Missing values count', table=True)\n",
    "ax.xaxis.set_visible(False) # hide x axis labels\n",
    "plt.ylim(0,300)\n",
    "\n",
    "# write percentage on top of each bar\n",
    "for i in ax.patches:\n",
    "    ax.text(i.get_x()+.1, i.get_height()+5, \\\n",
    "            str(round((i.get_height()/rows_length)*100, 2))+'%')"
   ]
  },
  {
   "cell_type": "markdown",
   "metadata": {},
   "source": [
    "There are three numerical features with missing values:\n",
    "<ul>\n",
    "<li>LotFrontage = Linear feet of street connected to property</li>\n",
    "<li>MasVnrArea = Masonry veneer (trad.: impiallacciatura in muratura) area in square feet </li>\n",
    "<li>GarageYrBlt = Year garage was built</li>\n",
    "</ul>"
   ]
  },
  {
   "cell_type": "code",
   "execution_count": 65,
   "metadata": {},
   "outputs": [
    {
     "name": "stdout",
     "output_type": "stream",
     "text": [
      "If a house doesn't have a garage then it's 'GarageYrBlt' is NaN in 100.0% of the cases\n"
     ]
    }
   ],
   "source": [
    "garage_filter=train[['GarageType','GarageYrBlt']]\n",
    "garage_filter = garage_filter[garage_filter['GarageType'].isna() & garage_filter['GarageYrBlt'].isna()]\n",
    "print(\"If a house doesn't have a garage then it's 'GarageYrBlt' is NaN in {}% of the cases\"\n",
    "      .format((garage_filter.shape[0]/numeric_nan_length[2])*100))"
   ]
  },
  {
   "cell_type": "markdown",
   "metadata": {},
   "source": [
    "There missing values of <b>GarageYrBlt</b> means that that specific house doesn't have a garage."
   ]
  },
  {
   "cell_type": "code",
   "execution_count": null,
   "metadata": {
    "collapsed": true
   },
   "outputs": [],
   "source": []
  }
 ],
 "metadata": {
  "kernelspec": {
   "display_name": "Python 3",
   "language": "python",
   "name": "python3"
  },
  "language_info": {
   "codemirror_mode": {
    "name": "ipython",
    "version": 3
   },
   "file_extension": ".py",
   "mimetype": "text/x-python",
   "name": "python",
   "nbconvert_exporter": "python",
   "pygments_lexer": "ipython3",
   "version": "3.6.2"
  }
 },
 "nbformat": 4,
 "nbformat_minor": 2
}
