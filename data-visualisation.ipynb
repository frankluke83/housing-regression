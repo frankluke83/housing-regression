{
 "cells": [
  {
   "cell_type": "code",
   "execution_count": 41,
   "metadata": {},
   "outputs": [
    {
     "name": "stdout",
     "output_type": "stream",
     "text": [
      "Train set has shape (1460, 81).\n",
      "Test set has shape (1459, 80) .\n",
      "Combining data...\n",
      "Train and test set combined: (2919, 79)\n"
     ]
    }
   ],
   "source": [
    "%matplotlib inline\n",
    "import matplotlib.pyplot as plt\n",
    "import matplotlib \n",
    "import numpy as np\n",
    "import pandas as pd\n",
    "from pandas import Series, DataFrame\n",
    "import seaborn as sns\n",
    "import pickle\n",
    "\n",
    "# Environment settings\n",
    "data_path = 'Data/'\n",
    "\n",
    "# load and serialize dataframes for later use in preprocessing notebook\n",
    "train = pd.read_csv(data_path+'train.csv')\n",
    "test = pd.read_csv(data_path+'test.csv')\n",
    "\n",
    "print(\"Train set has shape {}.\\nTest set has shape {} .\\nCombining data...\" .format(train.shape,test.shape) )\n",
    "\n",
    "all_data = pd.concat((train.loc[:,'MSSubClass':'SaleCondition'],\n",
    "                      test.loc[:,'MSSubClass':'SaleCondition']))\n",
    "print(\"Train and test set combined: {}\".format(all_data.shape))"
   ]
  },
  {
   "cell_type": "markdown",
   "metadata": {},
   "source": [
    "# 1.Numeric features"
   ]
  },
  {
   "cell_type": "code",
   "execution_count": 42,
   "metadata": {},
   "outputs": [
    {
     "name": "stdout",
     "output_type": "stream",
     "text": [
      "There are 36 numeric features (45.57% of total) \n"
     ]
    }
   ],
   "source": [
    "numeric_features = all_data.select_dtypes(include=[np.number])\n",
    "print(\"There are {} numeric features ({:.2f}% of total) \".format(numeric_features.shape[1],\n",
    "                                                                 (numeric_features.shape[1]/\n",
    "                                                                  all_data.shape[1])*100))"
   ]
  },
  {
   "cell_type": "markdown",
   "metadata": {},
   "source": [
    "## 1.1 Missing numeric values"
   ]
  },
  {
   "cell_type": "code",
   "execution_count": 43,
   "metadata": {
    "scrolled": true
   },
   "outputs": [
    {
     "data": {
      "image/png": "[encoded data removed]",
      "text/plain": [
       "<matplotlib.figure.Figure at 0x1135e64a8>"
      ]
     },
     "metadata": {},
     "output_type": "display_data"
    }
   ],
   "source": [
    "# Missing values# \n",
    "# number of rows\n",
    "plt.figure(figsize=(15,6))\n",
    "rows_length = numeric_features.shape[0]\n",
    "# fields with missing value count\n",
    "numeric_nan_length = numeric_features.isna().sum().where(lambda x : x > 0).dropna()\n",
    "numeric_nan_length = numeric_nan_length.sort_values()\n",
    "ax = numeric_nan_length \\\n",
    ".plot(kind='barh', alpha=0.9, title='Missing values count', table=True)\n",
    "ax.xaxis.set_visible(False) # hide x axis labels"
   ]
  },
  {
   "cell_type": "markdown",
   "metadata": {},
   "source": [
    "There are 11 numerical features with missing values:\n",
    "<ul>\n",
    "<li>LotFrontage = Linear feet of street connected to property</li>\n",
    "<li>MasVnrArea = Masonry veneer (trad.: impiallacciatura in muratura) area in square feet </li>\n",
    "<li>GarageYrBlt = Year garage was built</li>\n",
    "<li>GarageArea = Area of the garage </li>\n",
    "<li>GarageCars = Area of garage in car capacity </li>\n",
    "<li>BsmtHalfBath = Basement half bathrooms </li>\n",
    "<li>BsmtFullBath = Basement full bathrooms </li>\n",
    "<li>TotalBsmtSF = Total square feet of basement area </li>\n",
    "<li>BsmtUnfSF =  Unfinished square feet of basement area </li>\n",
    "<li>BsmtFinSF1 =  Type 1 finished square feet</li>\n",
    "<li>BsmtFinSF2 =  Type 2 finished square feet</li>\n",
    "</ul>"
   ]
  },
  {
   "cell_type": "markdown",
   "metadata": {},
   "source": [
    "## LotFrontage\n",
    "<br>Since there a many missing values of LotFrontage we cannot simply drop those rows : the area of each street connected to the house property most likely have a similar area to other houses in its neighborhood , we can fill in missing values by the median <b>LotFrontage</b> of the neighborhood."
   ]
  },
  {
   "cell_type": "code",
   "execution_count": 44,
   "metadata": {},
   "outputs": [],
   "source": [
    "all_data[\"LotFrontage\"] = all_data.groupby(\"Neighborhood\")[\"LotFrontage\"].transform(\n",
    "    lambda x: x.fillna(x.median()))"
   ]
  },
  {
   "cell_type": "markdown",
   "metadata": {},
   "source": [
    "## GarageYrBlt ,GarageArea , GarageCars"
   ]
  },
  {
   "cell_type": "code",
   "execution_count": 45,
   "metadata": {
    "scrolled": true
   },
   "outputs": [
    {
     "name": "stdout",
     "output_type": "stream",
     "text": [
      "If a house has'GarageYrBlt' NaN then it has no garage in 98.74% of the cases\n",
      "If a house has'GarageCars' NaN then it has no garage in 0.00% of the cases\n",
      "If a house has'GarageArea' NaN then it has no garage in 0.00% of the cases\n"
     ]
    }
   ],
   "source": [
    "#Selecting only GarageType and GarageYrBlt columns\n",
    "garage_year_filter=all_data[['GarageType','GarageYrBlt']]\n",
    "#Checking how many missing values of GarageYrBlt correspond to GarageType NaN value\n",
    "garage_year_filter =garage_year_filter[garage_year_filter['GarageType'].isna() & \n",
    "                                       garage_year_filter['GarageYrBlt'].isna()]\n",
    "\n",
    "#Selecting only GarageType and GarageCars columns\n",
    "garage_cars_filter =all_data[['GarageType','GarageCars']]\n",
    "#Checking how many missing values of GarageCars correspond to GarageType NaN value\n",
    "garage_cars_filter = garage_cars_filter[garage_cars_filter['GarageType'].isna() & \n",
    "                                       garage_cars_filter['GarageCars'].isna()]\n",
    "\n",
    "#Selecting only GarageType and GarageArea columns\n",
    "garage_area_filter =all_data[['GarageType','GarageArea']]\n",
    "#Checking how many missing values of GarageArea correspond to GarageType NaN value\n",
    "garage_area_filter = garage_area_filter[garage_area_filter['GarageType'].isna() & \n",
    "                                       garage_area_filter['GarageArea'].isna()]\n",
    "\n",
    "print(\"If a house has'GarageYrBlt' NaN then it has no garage in {:.2f}% of the cases\"\n",
    "      .format((garage_year_filter.shape[0]/numeric_nan_length[-2])*100))\n",
    "print(\"If a house has'GarageCars' NaN then it has no garage in {:.2f}% of the cases\"\n",
    "      .format((garage_cars_filter.shape[0]/numeric_nan_length[-7])*100))\n",
    "print(\"If a house has'GarageArea' NaN then it has no garage in {:.2f}% of the cases\"\n",
    "      .format((garage_area_filter.shape[0]/numeric_nan_length[-6])*100))"
   ]
  },
  {
   "cell_type": "markdown",
   "metadata": {},
   "source": [
    "Missing values of <b>GarageYrBlt</b> are present ~99% of the time only if that specific house doesn't have a garage.\n",
    "As a specific value ( <b>'NA</b> ) is available for a good solution would be to substitute NaNs in GaragaType to NA and the corresponding GarageYrBlt to 0.0.<br><br>The remaning 2% of the houses do have a garage but have not defined values for the garage year built.Also missing values of <b>GarageCars</b> and <b>GarageArea</b> are present altough the garage type is defined (means the garage exists).<br>"
   ]
  },
  {
   "cell_type": "code",
   "execution_count": 46,
   "metadata": {},
   "outputs": [
    {
     "name": "stdout",
     "output_type": "stream",
     "text": [
      "YearBuilt       0.834812\n",
      "YearRemodAdd    0.652365\n",
      "GarageCars      0.587712\n",
      "Name: GarageYrBlt, dtype: float64 \n",
      "\n",
      "GarageArea     0.889700\n",
      "OverallQual    0.600744\n",
      "GarageYrBlt    0.587712\n",
      "Name: GarageCars, dtype: float64 \n",
      "\n",
      "GarageCars     0.889700\n",
      "OverallQual    0.565122\n",
      "GarageYrBlt    0.555836\n",
      "Name: GarageArea, dtype: float64 \n",
      "\n"
     ]
    }
   ],
   "source": [
    "corr = numeric_features.corr()\n",
    "print (corr['GarageYrBlt'].sort_values(ascending=False)[1:4], '\\n')\n",
    "print (corr['GarageCars'].sort_values(ascending=False)[1:4], '\\n')\n",
    "print (corr['GarageArea'].sort_values(ascending=False)[1:4], '\\n')"
   ]
  },
  {
   "cell_type": "markdown",
   "metadata": {},
   "source": [
    "Since there is a strong positive correlation between GarageYrBlt and YearBuilt a good replacement for missing values could be to use the value of the year the house was built. No such thing can be said about GarageArea and GarageCars ( they are not surprisingly highly related)"
   ]
  },
  {
   "cell_type": "code",
   "execution_count": 47,
   "metadata": {},
   "outputs": [],
   "source": [
    "#Fill in 0 in all GarageYrs that don't have a Garage\n",
    "all_data.loc[all_data.GarageYrBlt.isna() & \n",
    "              all_data.GarageType.isna(),\n",
    "              'GarageYrBlt']=0\n",
    "\n",
    "#Fill in with YearBuilt all those who have a garage\n",
    "fill_in_values=all_data.loc[all_data.GarageYrBlt.isna(),'YearBuilt']\n",
    "all_data.loc[all_data.GarageYrBlt.isna(),'GarageYrBlt'] = fill_in_values\n",
    "\n",
    "#Set GarageCars,GarageArea NaNs to 0\n",
    "all_data['GarageCars']=all_data['GarageCars'].fillna(0)\n",
    "all_data['GarageArea']=all_data['GarageArea'].fillna(0)"
   ]
  },
  {
   "cell_type": "markdown",
   "metadata": {},
   "source": [
    "## MasVnrArea"
   ]
  },
  {
   "cell_type": "code",
   "execution_count": 48,
   "metadata": {},
   "outputs": [
    {
     "name": "stdout",
     "output_type": "stream",
     "text": [
      "If a house doesn't have a masonry veneer type available then it's 'MasVnrTryp' is NaN in 100.0% of the cases\n"
     ]
    }
   ],
   "source": [
    "veneer_filter=all_data[['MasVnrType','MasVnrArea']]\n",
    "veneer_filter = veneer_filter[veneer_filter['MasVnrArea'].isna() & veneer_filter['MasVnrType'].isna()]\n",
    "print(\"If a house doesn't have a masonry veneer type available then it's 'MasVnrTryp' is NaN in {}% of the cases\"\n",
    "      .format((veneer_filter.shape[0]/numeric_nan_length[-3])*100))\n"
   ]
  },
  {
   "cell_type": "markdown",
   "metadata": {},
   "source": [
    "Missing values of <b>MasVnrArea</b> are present only if that specific house doesn't have a masonry veneer type data available.<br>As a specific value ( <b>'None</b> ) is available for a good solution would be to substitute NaNs in MasVnrType to None and the corresponding MasVnrArea to 0.0."
   ]
  },
  {
   "cell_type": "code",
   "execution_count": 49,
   "metadata": {
    "collapsed": true
   },
   "outputs": [],
   "source": [
    "all_data[\"MasVnrType\"] = all_data[\"MasVnrType\"].fillna(\"None\")\n",
    "all_data[\"MasVnrArea\"] = all_data[\"MasVnrArea\"].fillna(0)"
   ]
  },
  {
   "cell_type": "markdown",
   "metadata": {},
   "source": [
    "## BsmtFullBath, BsmtHalfBath, TotalBsmtSF,  BsmtUnfSF, BsmtFinSF1, BsmtFinSF2\n",
    "<br>No assumptions can be made here so the best solution is to fill NaNs with zero."
   ]
  },
  {
   "cell_type": "code",
   "execution_count": 50,
   "metadata": {
    "collapsed": true
   },
   "outputs": [],
   "source": [
    "for col in ('BsmtFinSF1', 'BsmtFinSF2', 'BsmtUnfSF','TotalBsmtSF', 'BsmtFullBath', 'BsmtHalfBath'):\n",
    "    all_data[col] = all_data[col].fillna(0)"
   ]
  },
  {
   "cell_type": "markdown",
   "metadata": {},
   "source": [
    "## Checking "
   ]
  },
  {
   "cell_type": "code",
   "execution_count": 51,
   "metadata": {},
   "outputs": [
    {
     "name": "stdout",
     "output_type": "stream",
     "text": [
      "There are 0 missing numeric values left\n"
     ]
    }
   ],
   "source": [
    "numeric_features = all_data.select_dtypes(include=[np.number])\n",
    "missing_numeric = len(numeric_features.isna().sum().where(lambda x : x > 0).dropna())\n",
    "print(\"There are {} missing numeric values left\".format(missing_numeric) )"
   ]
  },
  {
   "cell_type": "markdown",
   "metadata": {},
   "source": [
    "# 2. Categorical data"
   ]
  },
  {
   "cell_type": "code",
   "execution_count": 52,
   "metadata": {},
   "outputs": [
    {
     "name": "stdout",
     "output_type": "stream",
     "text": [
      "There are 43 categorical features (54.43% of total) \n"
     ]
    }
   ],
   "source": [
    "cat_features = all_data.select_dtypes(exclude=[np.number])\n",
    "print(\"There are {} categorical features ({:.2f}% of total) \".format(cat_features.shape[1],\n",
    "                                                                 (cat_features.shape[1]/\n",
    "                                                                  all_data.shape[1])*100))"
   ]
  },
  {
   "cell_type": "markdown",
   "metadata": {},
   "source": [
    "## 2.1 Missing values"
   ]
  },
  {
   "cell_type": "code",
   "execution_count": 40,
   "metadata": {},
   "outputs": [
    {
     "data": {
      "image/png": "[encoded data removed]",
      "text/plain": [
       "<matplotlib.figure.Figure at 0x10a0f86d8>"
      ]
     },
     "metadata": {},
     "output_type": "display_data"
    }
   ],
   "source": [
    "# number of rows\n",
    "plt.figure(figsize=(15,6))\n",
    "rows_length = cat_features.shape[0]\n",
    "# fields with missing value count\n",
    "cat_nan_length = cat_features.isna().sum().where(lambda x : x > 0).dropna()\n",
    "cat_nan_length = cat_nan_length.sort_values()\n",
    "ax = cat_nan_length \\\n",
    ".plot(kind='barh', alpha=0.9, title='Missing values')\n",
    "ax.xaxis.set_visible(False) # hide x axis labels"
   ]
  },
  {
   "cell_type": "code",
   "execution_count": null,
   "metadata": {
    "collapsed": true
   },
   "outputs": [],
   "source": []
  }
 ],
 "metadata": {
  "kernelspec": {
   "display_name": "Python 3",
   "language": "python",
   "name": "python3"
  },
  "language_info": {
   "codemirror_mode": {
    "name": "ipython",
    "version": 3
   },
   "file_extension": ".py",
   "mimetype": "text/x-python",
   "name": "python",
   "nbconvert_exporter": "python",
   "pygments_lexer": "ipython3",
   "version": "3.6.2"
  }
 },
 "nbformat": 4,
 "nbformat_minor": 2
}
