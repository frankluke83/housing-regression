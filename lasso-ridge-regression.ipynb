{
 "cells": [
  {
   "cell_type": "markdown",
   "metadata": {},
   "source": [
    "# Lasso & Ridge"
   ]
  },
  {
   "cell_type": "code",
   "execution_count": 1,
   "metadata": {
    "collapsed": true
   },
   "outputs": [],
   "source": [
    "%matplotlib inline\n",
    "import numpy as np\n",
    "import pandas as pd\n",
    "from pandas import Series, DataFrame\n",
    "import pickle\n",
    "from sklearn.metrics import mean_squared_error as mse\n",
    "from sklearn.model_selection import cross_val_score\n",
    "from sklearn.model_selection import KFold\n",
    "from sklearn.model_selection import GridSearchCV\n",
    "from sklearn.linear_model import Lasso, LassoCV, Ridge,RidgeCV\n",
    "from sklearn.preprocessing import RobustScaler\n",
    "import warnings\n",
    "\n",
    "\n",
    "warnings.filterwarnings(\"ignore\")\n",
    "\n",
    "# environment settings\n",
    "data_path = 'Data/'\n",
    "\n",
    "# Deserialize previously saved data from \"preprocessing\"\n",
    "with open(data_path+'train_pp.obj', 'rb') as train_pp, \\\n",
    "open(data_path+'test_pp.obj','rb') as test_pp:\n",
    "    train_df = pickle.load(train_pp)\n",
    "    test_df = pickle.load(test_pp)\n",
    "train_df[\"SalePrice\"] = np.log1p(train_df[\"SalePrice\"])"
   ]
  },
  {
   "cell_type": "code",
   "execution_count": 2,
   "metadata": {},
   "outputs": [
    {
     "name": "stdout",
     "output_type": "stream",
     "text": [
      "Shape of training set (1456, 349).\n",
      "Shape of test set (1456,)\n"
     ]
    }
   ],
   "source": [
    "X = train_df.loc[:,'Id':'2ndFlrSF-Sq']\n",
    "y = train_df['SalePrice']\n",
    "print(\"Shape of training set {}.\\nShape of test set {}\".format(X.shape,y.shape))"
   ]
  },
  {
   "cell_type": "markdown",
   "metadata": {},
   "source": [
    "# Scaling\n",
    "Using a robust scaler useful with outliers"
   ]
  },
  {
   "cell_type": "code",
   "execution_count": 3,
   "metadata": {
    "collapsed": true
   },
   "outputs": [],
   "source": [
    "scaler = RobustScaler()\n",
    "X_scaled=scaler.fit(X).transform(X)\n",
    "test_scaled=scaler.transform(test_df)"
   ]
  },
  {
   "cell_type": "code",
   "execution_count": 4,
   "metadata": {},
   "outputs": [
    {
     "name": "stdout",
     "output_type": "stream",
     "text": [
      "The 10-fold crossvalidation RMSE of Lasso is 0.10942 +/- 0.006 , alpha :0.0005\n",
      "The 10-fold crossvalidation RMSE of Ridge is 0.11291 +/- 0.006 , alpha :10\n"
     ]
    }
   ],
   "source": [
    "lasso = LassoCV(alphas = [1, 0.1, 0.001, 0.0005],\n",
    "                      cv=KFold(10, shuffle=True, \n",
    "                       random_state=12345678)).fit(X_scaled, y)\n",
    "ridge = RidgeCV(alphas = [20,10,5,1, 0.1, 0.001],\n",
    "                      cv=KFold(10, shuffle=True, \n",
    "                       random_state=12345678)).fit(X_scaled, y)\n",
    "\n",
    "kf = KFold(5, shuffle=True, random_state=42).get_n_splits(X_scaled)\n",
    "rmse_cv_lasso= np.sqrt(-cross_val_score(lasso, X_scaled, y, scoring=\"neg_mean_squared_error\", cv = kf))\n",
    "rmse_cv_ridge= np.sqrt(-cross_val_score(ridge, X_scaled, y, scoring=\"neg_mean_squared_error\", cv = kf))\n",
    "\n",
    "\n",
    "print(\"The 10-fold crossvalidation RMSE of Lasso is {:.5f} +/- {:.3f} , alpha :{}\".format(rmse_cv_lasso.mean(),\n",
    "                                                                                          rmse_cv_lasso.std(),\n",
    "                                                                                          lasso.alpha_))\n",
    "print(\"The 10-fold crossvalidation RMSE of Ridge is {:.5f} +/- {:.3f} , alpha :{}\".format(rmse_cv_ridge.mean(),\n",
    "                                                                                          rmse_cv_ridge.std(),\n",
    "                                                                                          ridge.alpha_))"
   ]
  },
  {
   "cell_type": "markdown",
   "metadata": {},
   "source": [
    "Best: <br>\n",
    "RMSE of Lasso is 0.11038 +/- 0.006 , alpha :0.0005 <br>"
   ]
  },
  {
   "cell_type": "code",
   "execution_count": 19,
   "metadata": {},
   "outputs": [
    {
     "name": "stdout",
     "output_type": "stream",
     "text": [
      "The 10-fold crossvalidation RMSE of Lasso is 0.10948 +/- 0.006\n",
      "The 10-fold crossvalidation RMSE of Ridge is 0.11276 +/- 0.006\n"
     ]
    }
   ],
   "source": [
    "lasso= Lasso(alpha=0.0004)\n",
    "rmse_cv_lasso= np.sqrt(-cross_val_score(lasso, X_scaled, y, scoring=\"neg_mean_squared_error\", cv = kf))\n",
    "print(\"The 10-fold crossvalidation RMSE of Lasso is {:.5f} +/- {:.3f}\".format(rmse_cv_lasso.mean(),\n",
    "                                                                                          rmse_cv_lasso.std()))\n",
    "\n",
    "ridge= Ridge(alpha=10)\n",
    "rmse_cv_ridge= np.sqrt(-cross_val_score(ridge, X_scaled, y, scoring=\"neg_mean_squared_error\", cv = kf))\n",
    "print(\"The 10-fold crossvalidation RMSE of Ridge is {:.5f} +/- {:.3f}\".format(rmse_cv_ridge.mean(),\n",
    "                                                                                          rmse_cv_ridge.std()))"
   ]
  },
  {
   "cell_type": "code",
   "execution_count": 7,
   "metadata": {
    "collapsed": true
   },
   "outputs": [],
   "source": [
    "#Prediction on real test set using lasso\n",
    "lasso = Lasso(alpha=0.0004)\n",
    "lasso.fit(X_scaled,y)\n",
    "pred_results =lasso.predict(test_scaled)\n",
    "pred_results =np.expm1(pred_results)\n",
    "result_df = pd.DataFrame(data={'Id': test_df[\"Id\"].values,\n",
    "                               'SalePrice': pred_results})\n",
    "#Create output csv file\n",
    "result_df.to_csv(data_path+\"outputs/lasso_alpha_0004\", index=False)"
   ]
  },
  {
   "cell_type": "code",
   "execution_count": null,
   "metadata": {
    "collapsed": true
   },
   "outputs": [],
   "source": []
  }
 ],
 "metadata": {
  "kernelspec": {
   "display_name": "Python 3",
   "language": "python",
   "name": "python3"
  },
  "language_info": {
   "codemirror_mode": {
    "name": "ipython",
    "version": 3
   },
   "file_extension": ".py",
   "mimetype": "text/x-python",
   "name": "python",
   "nbconvert_exporter": "python",
   "pygments_lexer": "ipython3",
   "version": "3.6.2"
  }
 },
 "nbformat": 4,
 "nbformat_minor": 2
}
