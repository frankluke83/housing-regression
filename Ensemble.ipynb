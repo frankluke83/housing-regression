{
 "cells": [
  {
   "cell_type": "markdown",
   "metadata": {},
   "source": [
    "# Ensemble "
   ]
  },
  {
   "cell_type": "code",
   "execution_count": 35,
   "metadata": {},
   "outputs": [],
   "source": [
    "%matplotlib inline\n",
    "import numpy as np\n",
    "import pandas as pd\n",
    "from pandas import Series, DataFrame\n",
    "import pickle\n",
    "from sklearn.metrics import mean_squared_error as mse\n",
    "from sklearn.model_selection import cross_val_score,KFold,train_test_split\n",
    "from sklearn.linear_model import ElasticNet, Lasso\n",
    "from sklearn.ensemble import GradientBoostingRegressor\n",
    "from sklearn.kernel_ridge import KernelRidge\n",
    "from sklearn.svm import SVR\n",
    "from sklearn.linear_model import LinearRegression\n",
    "from mlxtend.regressor import StackingRegressor\n",
    "from sklearn.base import BaseEstimator, TransformerMixin, RegressorMixin, clone\n",
    "from xgboost import XGBRegressor\n",
    "\n",
    "import warnings\n",
    "\n",
    "\n",
    "warnings.filterwarnings(\"ignore\")\n",
    "\n",
    "# environment settings\n",
    "data_path = 'Data/'\n",
    "\n",
    "# Deserialize previously saved data from \"preprocessing\"\n",
    "with open(data_path+'train_pp.obj', 'rb') as train_pp, \\\n",
    "open(data_path+'test_pp.obj','rb') as test_pp:\n",
    "    train_df = pickle.load(train_pp)\n",
    "    test_df = pickle.load(test_pp)\n",
    "train_df[\"SalePrice\"] = np.log1p(train_df[\"SalePrice\"])"
   ]
  },
  {
   "cell_type": "code",
   "execution_count": 36,
   "metadata": {},
   "outputs": [
    {
     "name": "stdout",
     "output_type": "stream",
     "text": [
      "Shape of training set (1460, 303).\n",
      "Shape of test set (1460,)\n"
     ]
    }
   ],
   "source": [
    "X = train_df.loc[:,'Id':'SaleCondition_Partial']\n",
    "y = train_df['SalePrice']\n",
    "print(\"Shape of training set {}.\\nShape of test set {}\".format(X.shape,y.shape))"
   ]
  },
  {
   "cell_type": "code",
   "execution_count": 37,
   "metadata": {},
   "outputs": [
    {
     "name": "stdout",
     "output_type": "stream",
     "text": [
      "The 10-fold crossvalidation RMSE of Stack Regressor is 0.11573 +/- 0.019\n"
     ]
    }
   ],
   "source": [
    "lasso = Lasso(alpha=0.00065)\n",
    "ENet = ElasticNet(alpha=0.0008,l1_ratio=.55)\n",
    "gBoost = GradientBoostingRegressor(n_estimators=4000, learning_rate=0.03,\n",
    "                                   max_depth=2, max_features='sqrt', \n",
    "                                   loss='huber', random_state =5)\n",
    "\n",
    "xgb= XGBRegressor(colsample_bytree=0.4603, gamma=0.0468, \n",
    "                             learning_rate=0.05, max_depth=3, \n",
    "                             min_child_weight=1.7817, n_estimators=2200,\n",
    "                             reg_alpha=0.4640, reg_lambda=0.8571,\n",
    "                             subsample=0.5213, silent=1,\n",
    "                             random_state =7, nthread = -1)\n",
    "\n",
    "\n",
    "svm = SVR()\n",
    "stregr = StackingRegressor(regressors=[lasso,ENet,xgb,gBoost], \n",
    "                           meta_regressor=svm)\n",
    "\n",
    "kf = KFold(10, shuffle=True, random_state=42).get_n_splits(X)\n",
    "rmse_cv_stack= np.sqrt(-cross_val_score(stregr, X, y, scoring=\"neg_mean_squared_error\", cv = kf))\n",
    "print(\"The 10-fold crossvalidation RMSE of Stack Regressor is {:.5f} +/- {:.3f}\".format(rmse_cv_stack.mean(),\n",
    "                                                                                          rmse_cv_stack.std()))"
   ]
  },
  {
   "cell_type": "markdown",
   "metadata": {},
   "source": [
    "Best is 0.11573 +/- 0.019 lasso,ENet,xgb,gBoost\n"
   ]
  },
  {
   "cell_type": "code",
   "execution_count": 17,
   "metadata": {},
   "outputs": [],
   "source": [
    "class AveragingModels(BaseEstimator, RegressorMixin, TransformerMixin):\n",
    "    def __init__(self, models):\n",
    "        self.models = models\n",
    "        \n",
    "    # we define clones of the original models to fit the data in\n",
    "    def fit(self, X, y):\n",
    "        self.models_ = [clone(x) for x in self.models]\n",
    "        \n",
    "        # Train cloned base models\n",
    "        for model in self.models_:\n",
    "            model.fit(X, y)\n",
    "\n",
    "        return self\n",
    "    \n",
    "    #Now we do the predictions for cloned models and average them\n",
    "    def predict(self, X):\n",
    "        predictions = np.column_stack([\n",
    "            model.predict(X) for model in self.models_\n",
    "        ])\n",
    "        return np.mean(predictions, axis=1)\n"
   ]
  },
  {
   "cell_type": "code",
   "execution_count": 29,
   "metadata": {},
   "outputs": [
    {
     "name": "stdout",
     "output_type": "stream",
     "text": [
      " Averaged base models score: 0.1138 (0.0190)\n",
      "\n"
     ]
    }
   ],
   "source": [
    "averaged = AveragingModels(models = (ENet, gBoost, lasso, xgb))\n",
    "rmse_cv_avg= np.sqrt(-cross_val_score(averaged, X, y, scoring=\"neg_mean_squared_error\", cv = kf))\n",
    "print(\" Averaged base models score: {:.4f} ({:.4f})\\n\".format(rmse_cv_avg.mean(), rmse_cv_avg.std()))"
   ]
  },
  {
   "cell_type": "markdown",
   "metadata": {},
   "source": [
    "Best is  Averaged base models score: 0.1138 (0.0190) <br>\n",
    "ENet,gBoost,lasso,xgb"
   ]
  },
  {
   "cell_type": "code",
   "execution_count": 38,
   "metadata": {},
   "outputs": [
    {
     "name": "stdout",
     "output_type": "stream",
     "text": [
      " Averaged base models score: 0.1120 (0.0185)\n",
      "\n"
     ]
    }
   ],
   "source": [
    "averaged_final = AveragingModels(models = (averaged, stregr))\n",
    "rmse_cv_avg2= np.sqrt(-cross_val_score(averaged_final, X, y, scoring=\"neg_mean_squared_error\", cv = kf))\n",
    "print(\" Averaged base models score: {:.4f} ({:.4f})\\n\".format(rmse_cv_avg2.mean(), rmse_cv_avg2.std()))"
   ]
  },
  {
   "cell_type": "code",
   "execution_count": 39,
   "metadata": {},
   "outputs": [],
   "source": [
    "#Prediction on real test set using Stack Regressor\n",
    "averaged_final.fit(X,y)\n",
    "pred_results_stack =averaged_final.predict(test_df)\n",
    "pred_results_stack =np.expm1(pred_results_stack)\n",
    "result_df = pd.DataFrame(data={'Id': test_df[\"Id\"].values,\n",
    "                               'SalePrice': pred_results_stack})\n",
    "#Create output csv file\n",
    "result_df.to_csv(data_path+\"outputs/averaged_supreme_model\", index=False)"
   ]
  },
  {
   "cell_type": "code",
   "execution_count": null,
   "metadata": {
    "collapsed": true
   },
   "outputs": [],
   "source": []
  }
 ],
 "metadata": {
  "kernelspec": {
   "display_name": "Python 3",
   "language": "python",
   "name": "python3"
  },
  "language_info": {
   "codemirror_mode": {
    "name": "ipython",
    "version": 3
   },
   "file_extension": ".py",
   "mimetype": "text/x-python",
   "name": "python",
   "nbconvert_exporter": "python",
   "pygments_lexer": "ipython3",
   "version": "3.6.2"
  }
 },
 "nbformat": 4,
 "nbformat_minor": 2
}
