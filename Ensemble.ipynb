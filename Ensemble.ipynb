{
 "cells": [
  {
   "cell_type": "markdown",
   "metadata": {},
   "source": [
    "# Ensemble "
   ]
  },
  {
   "cell_type": "code",
   "execution_count": 48,
   "metadata": {},
   "outputs": [],
   "source": [
    "%matplotlib inline\n",
    "import numpy as np\n",
    "import pandas as pd\n",
    "from pandas import Series, DataFrame\n",
    "import pickle\n",
    "from sklearn.metrics import mean_squared_error as mse\n",
    "from sklearn.model_selection import cross_val_score,KFold\n",
    "from sklearn.linear_model import ElasticNet, Lasso\n",
    "from sklearn.ensemble import GradientBoostingRegressor\n",
    "from sklearn.kernel_ridge import KernelRidge\n",
    "from sklearn.svm import SVR\n",
    "from sklearn.linear_model import LinearRegression\n",
    "from mlxtend.regressor import StackingRegressor\n",
    "import xgboost as xgb\n",
    "\n",
    "import warnings\n",
    "\n",
    "\n",
    "warnings.filterwarnings(\"ignore\")\n",
    "\n",
    "# environment settings\n",
    "data_path = 'Data/'\n",
    "\n",
    "# Deserialize previously saved data from \"preprocessing\"\n",
    "with open(data_path+'train_pp.obj', 'rb') as train_pp, \\\n",
    "open(data_path+'test_pp.obj','rb') as test_pp:\n",
    "    train_df = pickle.load(train_pp)\n",
    "    test_df = pickle.load(test_pp)\n",
    "train_df[\"SalePrice\"] = np.log1p(train_df[\"SalePrice\"])"
   ]
  },
  {
   "cell_type": "code",
   "execution_count": 49,
   "metadata": {},
   "outputs": [
    {
     "name": "stdout",
     "output_type": "stream",
     "text": [
      "Shape of training set (1460, 303).\n",
      "Shape of test set (1460,)\n"
     ]
    }
   ],
   "source": [
    "X = train_df.loc[:,'Id':'SaleCondition_Partial']\n",
    "y = train_df['SalePrice']\n",
    "print(\"Shape of training set {}.\\nShape of test set {}\".format(X.shape,y.shape))"
   ]
  },
  {
   "cell_type": "code",
   "execution_count": 55,
   "metadata": {},
   "outputs": [
    {
     "name": "stdout",
     "output_type": "stream",
     "text": [
      "The 10-fold crossvalidation RMSE of Stack Regressor is 0.11873 +/- 0.017\n"
     ]
    }
   ],
   "source": [
    "lasso = Lasso(alpha=0.0005)\n",
    "ENet = ElasticNet(alpha=0.001,l1_ratio=.45)\n",
    "# GBoost = GradientBoostingRegressor(n_estimators=3000, learning_rate=0.03,\n",
    "#                                    max_depth=3, max_features='sqrt', \n",
    "#                                    loss='huber', random_state =5)\n",
    "\n",
    "model_xgb = xgb.XGBRegressor(colsample_bytree=0.4603, gamma=0.0468, \n",
    "                             learning_rate=0.05, max_depth=3, \n",
    "                             min_child_weight=1.7817, n_estimators=2200,\n",
    "                             reg_alpha=0.4640, reg_lambda=0.8571,\n",
    "                             subsample=0.5213, silent=1,\n",
    "                             random_state =7, nthread = -1)\n",
    "lr = LinearRegression()\n",
    "\n",
    "\n",
    "stregr = StackingRegressor(regressors=[lasso,ENet,model_xgb,GBoost], \n",
    "                           meta_regressor=lr)\n",
    "kf = KFold(10, shuffle=True, random_state=42).get_n_splits(X)\n",
    "rmse_cv_stack= np.sqrt(-cross_val_score(model_xgb, X, y, scoring=\"neg_mean_squared_error\", cv = kf))\n",
    "print(\"The 10-fold crossvalidation RMSE of Stack Regressor is {:.5f} +/- {:.3f}\".format(rmse_cv_stack.mean(),\n",
    "                                                                                          rmse_cv_stack.std()))"
   ]
  },
  {
   "cell_type": "code",
   "execution_count": 57,
   "metadata": {},
   "outputs": [],
   "source": [
    "#Prediction on real test set using Stack Regressor\n",
    "stregr.fit(X,y)\n",
    "model_xgb.fit(X,y)\n",
    "pred_results_stack =stregr.predict(test_df)\n",
    "pred_results_stack =np.expm1(pred_results_stack)\n",
    "pred_results_xgb = model_xgb.predict(test_df)\n",
    "pred_results_xgb =np.expm1(pred_results_xgb)\n",
    "\n",
    "ensemble = pred_results_stack*0.30 + pred_results_xgb*0.70\n",
    "result_df = pd.DataFrame(data={'Id': test_df[\"Id\"].values,\n",
    "                               'SalePrice': ensemble})\n",
    "#Create output csv file\n",
    "result_df.to_csv(data_path+\"outputs/stack_lasso_enet_gboost_ensemble_xgb\", index=False)"
   ]
  },
  {
   "cell_type": "code",
   "execution_count": null,
   "metadata": {
    "collapsed": true
   },
   "outputs": [],
   "source": []
  }
 ],
 "metadata": {
  "kernelspec": {
   "display_name": "Python 3",
   "language": "python",
   "name": "python3"
  },
  "language_info": {
   "codemirror_mode": {
    "name": "ipython",
    "version": 3
   },
   "file_extension": ".py",
   "mimetype": "text/x-python",
   "name": "python",
   "nbconvert_exporter": "python",
   "pygments_lexer": "ipython3",
   "version": "3.6.2"
  }
 },
 "nbformat": 4,
 "nbformat_minor": 2
}
