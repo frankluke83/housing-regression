{
 "cells": [
  {
   "cell_type": "markdown",
   "metadata": {},
   "source": [
    "# Random Forest Regressor"
   ]
  },
  {
   "cell_type": "code",
   "execution_count": 20,
   "metadata": {},
   "outputs": [],
   "source": [
    "%matplotlib inline\n",
    "import numpy as np\n",
    "import pandas as pd\n",
    "from pandas import Series, DataFrame\n",
    "import pickle\n",
    "from sklearn.metrics import mean_squared_error as mse\n",
    "from sklearn.model_selection import cross_val_score,KFold,GridSearchCV\n",
    "from sklearn.ensemble import RandomForestRegressor\n",
    "import warnings\n",
    "\n",
    "\n",
    "warnings.filterwarnings(\"ignore\")\n",
    "\n",
    "# environment settings\n",
    "data_path = 'Data/'\n",
    "\n",
    "# Deserialize previously saved data from \"preprocessing\"\n",
    "with open(data_path+'train_pp.obj', 'rb') as train_pp, \\\n",
    "open(data_path+'test_pp.obj','rb') as test_pp:\n",
    "    train_df = pickle.load(train_pp)\n",
    "    test_df = pickle.load(test_pp)\n",
    "train_df[\"SalePrice\"] = np.log1p(train_df[\"SalePrice\"])"
   ]
  },
  {
   "cell_type": "code",
   "execution_count": 21,
   "metadata": {},
   "outputs": [
    {
     "name": "stdout",
     "output_type": "stream",
     "text": [
      "Shape of training set (1460, 303).\n",
      "Shape of test set (1460,)\n"
     ]
    }
   ],
   "source": [
    "X = train_df.loc[:,'Id':'SaleCondition_Partial']\n",
    "y = train_df['SalePrice']\n",
    "print(\"Shape of training set {}.\\nShape of test set {}\".format(X.shape,y.shape))"
   ]
  },
  {
   "cell_type": "code",
   "execution_count": 28,
   "metadata": {},
   "outputs": [
    {
     "name": "stdout",
     "output_type": "stream",
     "text": [
      "Fitting 5 folds for each of 45 candidates, totalling 225 fits\n"
     ]
    },
    {
     "name": "stderr",
     "output_type": "stream",
     "text": [
      "[Parallel(n_jobs=-1)]: Done  81 tasks      | elapsed:   38.6s\n",
      "[Parallel(n_jobs=-1)]: Done 225 out of 225 | elapsed:  3.2min finished\n"
     ]
    },
    {
     "name": "stdout",
     "output_type": "stream",
     "text": [
      "0.8768506623465587\n",
      "{'max_depth': 8, 'max_features': 100, 'n_estimators': 500}\n"
     ]
    }
   ],
   "source": [
    "# # Set the parameters by cross-validation\n",
    "# tuned_parameters = {'n_estimators': [10,100,500], \n",
    "#                     'max_depth': [4, 6, 8], \n",
    "#                     'max_features':[50,100,150,200,250]}\n",
    "\n",
    "# grid_rf = GridSearchCV(RandomForestRegressor(), \n",
    "#                        tuned_parameters, \n",
    "#                        cv=5, \n",
    "#                        n_jobs=-1, verbose=1)\n",
    "# grid_rf.fit(X,y)\n",
    "# print(grid_rf.best_score_)\n",
    "# print(grid_rf.best_params_)"
   ]
  },
  {
   "cell_type": "markdown",
   "metadata": {},
   "source": [
    "## Found by grid search\n",
    "r2 : 0.8768506623465587 <br>\n",
    "{'max_depth': 8, 'max_features': 100, 'n_estimators': 500}"
   ]
  },
  {
   "cell_type": "code",
   "execution_count": 31,
   "metadata": {},
   "outputs": [
    {
     "name": "stdout",
     "output_type": "stream",
     "text": [
      "The 10-fold crossvalidation RMSE of Random Forest is 0.13853 +/- 0.016\n"
     ]
    }
   ],
   "source": [
    "rf = RandomForestRegressor(n_estimators=500,\n",
    "                           criterion=\"mse\" ,\n",
    "                           max_features=120,\n",
    "                           max_depth=8,\n",
    "                           random_state=1)\n",
    "kf = KFold(10, shuffle=True, random_state=42).get_n_splits(X)\n",
    "rmse_cv_rf= np.sqrt(-cross_val_score(rf, X, y, scoring=\"neg_mean_squared_error\", cv = kf))\n",
    "print(\"The 10-fold crossvalidation RMSE of Random Forest is {:.5f} +/- {:.3f}\".format(rmse_cv_rf.mean(),\n",
    "                                                                                          rmse_cv_rf.std()))"
   ]
  },
  {
   "cell_type": "code",
   "execution_count": null,
   "metadata": {
    "collapsed": true
   },
   "outputs": [],
   "source": []
  },
  {
   "cell_type": "code",
   "execution_count": null,
   "metadata": {
    "collapsed": true
   },
   "outputs": [],
   "source": []
  }
 ],
 "metadata": {
  "kernelspec": {
   "display_name": "Python 3",
   "language": "python",
   "name": "python3"
  },
  "language_info": {
   "codemirror_mode": {
    "name": "ipython",
    "version": 3
   },
   "file_extension": ".py",
   "mimetype": "text/x-python",
   "name": "python",
   "nbconvert_exporter": "python",
   "pygments_lexer": "ipython3",
   "version": "3.6.2"
  }
 },
 "nbformat": 4,
 "nbformat_minor": 2
}
