{
 "cells": [
  {
   "cell_type": "markdown",
   "metadata": {},
   "source": [
    "# Elastic Net Regression"
   ]
  },
  {
   "cell_type": "code",
   "execution_count": 11,
   "metadata": {},
   "outputs": [
    {
     "data": {
      "text/html": [
       "<div>\n",
       "<style scoped>\n",
       "    .dataframe tbody tr th:only-of-type {\n",
       "        vertical-align: middle;\n",
       "    }\n",
       "\n",
       "    .dataframe tbody tr th {\n",
       "        vertical-align: top;\n",
       "    }\n",
       "\n",
       "    .dataframe thead th {\n",
       "        text-align: right;\n",
       "    }\n",
       "</style>\n",
       "<table border=\"1\" class=\"dataframe\">\n",
       "  <thead>\n",
       "    <tr style=\"text-align: right;\">\n",
       "      <th></th>\n",
       "      <th>Id</th>\n",
       "      <th>MSSubClass</th>\n",
       "      <th>LotFrontage</th>\n",
       "      <th>LotArea</th>\n",
       "      <th>OverallQual</th>\n",
       "      <th>OverallCond</th>\n",
       "      <th>YearBuilt</th>\n",
       "      <th>YearRemodAdd</th>\n",
       "      <th>MasVnrArea</th>\n",
       "      <th>BsmtFinSF1</th>\n",
       "      <th>...</th>\n",
       "      <th>FullBath-Sq</th>\n",
       "      <th>TotRmsAbvGrd-Sq</th>\n",
       "      <th>Fireplaces-Sq</th>\n",
       "      <th>MasVnrArea-Sq</th>\n",
       "      <th>BsmtFinSF1-Sq</th>\n",
       "      <th>LotFrontage-Sq</th>\n",
       "      <th>WoodDeckSF-Sq</th>\n",
       "      <th>OpenPorchSF-Sq</th>\n",
       "      <th>2ndFlrSF-Sq</th>\n",
       "      <th>SalePrice</th>\n",
       "    </tr>\n",
       "  </thead>\n",
       "  <tbody>\n",
       "    <tr>\n",
       "      <th>0</th>\n",
       "      <td>1</td>\n",
       "      <td>6.377215</td>\n",
       "      <td>6.557896</td>\n",
       "      <td>25.503637</td>\n",
       "      <td>2.578583</td>\n",
       "      <td>2.154845</td>\n",
       "      <td>17.874391</td>\n",
       "      <td>17.874391</td>\n",
       "      <td>9.383456</td>\n",
       "      <td>13.571795</td>\n",
       "      <td>...</td>\n",
       "      <td>1.108447</td>\n",
       "      <td>1.661092</td>\n",
       "      <td>0.00000</td>\n",
       "      <td>3.063243</td>\n",
       "      <td>3.683992</td>\n",
       "      <td>2.560839</td>\n",
       "      <td>0.000000</td>\n",
       "      <td>2.532642</td>\n",
       "      <td>3.780394</td>\n",
       "      <td>12.247699</td>\n",
       "    </tr>\n",
       "    <tr>\n",
       "      <th>1</th>\n",
       "      <td>2</td>\n",
       "      <td>4.192081</td>\n",
       "      <td>7.041123</td>\n",
       "      <td>26.291998</td>\n",
       "      <td>2.378866</td>\n",
       "      <td>2.759228</td>\n",
       "      <td>17.812419</td>\n",
       "      <td>17.812419</td>\n",
       "      <td>0.000000</td>\n",
       "      <td>14.821045</td>\n",
       "      <td>...</td>\n",
       "      <td>1.108447</td>\n",
       "      <td>1.542357</td>\n",
       "      <td>0.86226</td>\n",
       "      <td>0.000000</td>\n",
       "      <td>3.849811</td>\n",
       "      <td>2.653512</td>\n",
       "      <td>3.261170</td>\n",
       "      <td>0.000000</td>\n",
       "      <td>0.000000</td>\n",
       "      <td>12.109016</td>\n",
       "    </tr>\n",
       "    <tr>\n",
       "      <th>2</th>\n",
       "      <td>3</td>\n",
       "      <td>6.377215</td>\n",
       "      <td>6.661108</td>\n",
       "      <td>27.300424</td>\n",
       "      <td>2.578583</td>\n",
       "      <td>2.154845</td>\n",
       "      <td>17.869824</td>\n",
       "      <td>17.872108</td>\n",
       "      <td>8.848653</td>\n",
       "      <td>12.237560</td>\n",
       "      <td>...</td>\n",
       "      <td>1.108447</td>\n",
       "      <td>1.542357</td>\n",
       "      <td>0.86226</td>\n",
       "      <td>2.974669</td>\n",
       "      <td>3.498222</td>\n",
       "      <td>2.580912</td>\n",
       "      <td>0.000000</td>\n",
       "      <td>2.368277</td>\n",
       "      <td>3.787509</td>\n",
       "      <td>12.317171</td>\n",
       "    </tr>\n",
       "    <tr>\n",
       "      <th>3</th>\n",
       "      <td>4</td>\n",
       "      <td>6.727938</td>\n",
       "      <td>6.377215</td>\n",
       "      <td>26.259338</td>\n",
       "      <td>2.578583</td>\n",
       "      <td>2.154845</td>\n",
       "      <td>17.669874</td>\n",
       "      <td>17.798555</td>\n",
       "      <td>0.000000</td>\n",
       "      <td>9.664321</td>\n",
       "      <td>...</td>\n",
       "      <td>0.862260</td>\n",
       "      <td>1.605797</td>\n",
       "      <td>0.86226</td>\n",
       "      <td>0.000000</td>\n",
       "      <td>3.108749</td>\n",
       "      <td>2.525315</td>\n",
       "      <td>0.000000</td>\n",
       "      <td>2.288747</td>\n",
       "      <td>3.718514</td>\n",
       "      <td>11.849405</td>\n",
       "    </tr>\n",
       "    <tr>\n",
       "      <th>4</th>\n",
       "      <td>5</td>\n",
       "      <td>6.377215</td>\n",
       "      <td>7.157766</td>\n",
       "      <td>28.868815</td>\n",
       "      <td>2.759228</td>\n",
       "      <td>2.154845</td>\n",
       "      <td>17.867539</td>\n",
       "      <td>17.867539</td>\n",
       "      <td>11.144754</td>\n",
       "      <td>13.295773</td>\n",
       "      <td>...</td>\n",
       "      <td>1.108447</td>\n",
       "      <td>1.710107</td>\n",
       "      <td>0.86226</td>\n",
       "      <td>3.338376</td>\n",
       "      <td>3.646337</td>\n",
       "      <td>2.675400</td>\n",
       "      <td>3.053615</td>\n",
       "      <td>2.675400</td>\n",
       "      <td>3.887909</td>\n",
       "      <td>12.429220</td>\n",
       "    </tr>\n",
       "  </tbody>\n",
       "</table>\n",
       "<p>5 rows × 350 columns</p>\n",
       "</div>"
      ],
      "text/plain": [
       "   Id  MSSubClass  LotFrontage    LotArea  OverallQual  OverallCond  \\\n",
       "0   1    6.377215     6.557896  25.503637     2.578583     2.154845   \n",
       "1   2    4.192081     7.041123  26.291998     2.378866     2.759228   \n",
       "2   3    6.377215     6.661108  27.300424     2.578583     2.154845   \n",
       "3   4    6.727938     6.377215  26.259338     2.578583     2.154845   \n",
       "4   5    6.377215     7.157766  28.868815     2.759228     2.154845   \n",
       "\n",
       "   YearBuilt  YearRemodAdd  MasVnrArea  BsmtFinSF1    ...      FullBath-Sq  \\\n",
       "0  17.874391     17.874391    9.383456   13.571795    ...         1.108447   \n",
       "1  17.812419     17.812419    0.000000   14.821045    ...         1.108447   \n",
       "2  17.869824     17.872108    8.848653   12.237560    ...         1.108447   \n",
       "3  17.669874     17.798555    0.000000    9.664321    ...         0.862260   \n",
       "4  17.867539     17.867539   11.144754   13.295773    ...         1.108447   \n",
       "\n",
       "   TotRmsAbvGrd-Sq  Fireplaces-Sq  MasVnrArea-Sq  BsmtFinSF1-Sq  \\\n",
       "0         1.661092        0.00000       3.063243       3.683992   \n",
       "1         1.542357        0.86226       0.000000       3.849811   \n",
       "2         1.542357        0.86226       2.974669       3.498222   \n",
       "3         1.605797        0.86226       0.000000       3.108749   \n",
       "4         1.710107        0.86226       3.338376       3.646337   \n",
       "\n",
       "   LotFrontage-Sq  WoodDeckSF-Sq  OpenPorchSF-Sq  2ndFlrSF-Sq  SalePrice  \n",
       "0        2.560839       0.000000        2.532642     3.780394  12.247699  \n",
       "1        2.653512       3.261170        0.000000     0.000000  12.109016  \n",
       "2        2.580912       0.000000        2.368277     3.787509  12.317171  \n",
       "3        2.525315       0.000000        2.288747     3.718514  11.849405  \n",
       "4        2.675400       3.053615        2.675400     3.887909  12.429220  \n",
       "\n",
       "[5 rows x 350 columns]"
      ]
     },
     "execution_count": 11,
     "metadata": {},
     "output_type": "execute_result"
    }
   ],
   "source": [
    "%matplotlib inline\n",
    "import numpy as np\n",
    "import pandas as pd\n",
    "from pandas import Series, DataFrame\n",
    "import pickle\n",
    "from sklearn.metrics import mean_squared_error as mse\n",
    "from sklearn.model_selection import cross_val_score,KFold\n",
    "from sklearn.linear_model import ElasticNet, ElasticNetCV\n",
    "from sklearn.preprocessing import RobustScaler\n",
    "import warnings\n",
    "\n",
    "\n",
    "warnings.filterwarnings(\"ignore\")\n",
    "\n",
    "# environment settings\n",
    "data_path = 'Data/'\n",
    "\n",
    "# Deserialize previously saved data from \"preprocessing\"\n",
    "with open(data_path+'train_pp.obj', 'rb') as train_pp, \\\n",
    "open(data_path+'test_pp.obj','rb') as test_pp:\n",
    "    train_df = pickle.load(train_pp)\n",
    "    test_df = pickle.load(test_pp)\n",
    "train_df[\"SalePrice\"] = np.log1p(train_df[\"SalePrice\"])"
   ]
  },
  {
   "cell_type": "code",
   "execution_count": 12,
   "metadata": {},
   "outputs": [
    {
     "name": "stdout",
     "output_type": "stream",
     "text": [
      "Shape of training set (1456, 349).\n",
      "Shape of test set (1456,)\n"
     ]
    }
   ],
   "source": [
    "X = train_df.loc[:,'Id':'2ndFlrSF-Sq']\n",
    "y = train_df['SalePrice']\n",
    "print(\"Shape of training set {}.\\nShape of test set {}\".format(X.shape,y.shape))"
   ]
  },
  {
   "cell_type": "markdown",
   "metadata": {},
   "source": [
    "# Scaling\n",
    "Using a robust scaler useful with outliers"
   ]
  },
  {
   "cell_type": "code",
   "execution_count": 13,
   "metadata": {
    "collapsed": true
   },
   "outputs": [],
   "source": [
    "scaler = RobustScaler()\n",
    "X_scaled=scaler.fit(X).transform(X)\n",
    "test_scaled=scaler.transform(test_df)"
   ]
  },
  {
   "cell_type": "code",
   "execution_count": 14,
   "metadata": {},
   "outputs": [
    {
     "name": "stdout",
     "output_type": "stream",
     "text": [
      "The 10-fold crossvalidation RMSE of ENet is 0.11029 +/- 0.006 , alpha :0.0005\n"
     ]
    }
   ],
   "source": [
    "ENet = ElasticNetCV(alphas = [1, 0.1, 0.001, 0.0005],\n",
    "                      cv=KFold(10, shuffle=True, \n",
    "                       random_state=1)).fit(X_scaled,y)\n",
    "kf = KFold(5, shuffle=True, random_state=42).get_n_splits(X_scaled)\n",
    "rmse_cv_enet= np.sqrt(-cross_val_score(ENet, X_scaled, y, scoring=\"neg_mean_squared_error\", cv = kf))\n",
    "\n",
    "\n",
    "print(\"The 10-fold crossvalidation RMSE of ENet is {:.5f} +/- {:.3f} , alpha :{}\".format(rmse_cv_enet.mean(),\n",
    "                                                                                          rmse_cv_enet.std(),\n",
    "                                                                                          ENet.alpha_))"
   ]
  },
  {
   "cell_type": "code",
   "execution_count": 15,
   "metadata": {},
   "outputs": [
    {
     "name": "stdout",
     "output_type": "stream",
     "text": [
      "The 10-fold crossvalidation RMSE of Elastic Net is 0.10758 +/- 0.015\n"
     ]
    }
   ],
   "source": [
    "ENet = ElasticNet(alpha=0.0008, l1_ratio=0.55, random_state=1)\n",
    "kf = KFold(10, shuffle=True, random_state=42).get_n_splits(X_scaled)\n",
    "rmse_cv_enet= np.sqrt(-cross_val_score(ENet, X_scaled, y, scoring=\"neg_mean_squared_error\", cv = kf))\n",
    "print(\"The 10-fold crossvalidation RMSE of Elastic Net is {:.5f} +/- {:.3f}\".format(rmse_cv_enet.mean(),\n",
    "                                                                                          rmse_cv_enet.std()))\n"
   ]
  },
  {
   "cell_type": "markdown",
   "metadata": {},
   "source": [
    "Best is alpha .0008 , l1_ratio .55 , without label encoding -> 0.10854 +/- 0.014"
   ]
  },
  {
   "cell_type": "code",
   "execution_count": null,
   "metadata": {
    "collapsed": true
   },
   "outputs": [],
   "source": [
    "# #Prediction on real test set using ENet\n",
    "# ENet = ElasticNet(alpha=0.0008,l1_ratio=.55)\n",
    "# ENet.fit(X_scaled,y)\n",
    "# pred_results =ENet.predict(test_scaled)\n",
    "# pred_results = np.expm1(pred_results)\n",
    "# result_df = pd.DataFrame(data={'Id': test_df[\"Id\"].values,\n",
    "#                                'SalePrice': pred_results})\n",
    "# #Create output csv file\n",
    "# result_df.to_csv(data_path+\"outputs/enet_0008_Scaled\", index=False)"
   ]
  },
  {
   "cell_type": "code",
   "execution_count": null,
   "metadata": {
    "collapsed": true
   },
   "outputs": [],
   "source": []
  },
  {
   "cell_type": "code",
   "execution_count": null,
   "metadata": {
    "collapsed": true
   },
   "outputs": [],
   "source": []
  }
 ],
 "metadata": {
  "kernelspec": {
   "display_name": "Python 3",
   "language": "python",
   "name": "python3"
  },
  "language_info": {
   "codemirror_mode": {
    "name": "ipython",
    "version": 3
   },
   "file_extension": ".py",
   "mimetype": "text/x-python",
   "name": "python",
   "nbconvert_exporter": "python",
   "pygments_lexer": "ipython3",
   "version": "3.6.2"
  }
 },
 "nbformat": 4,
 "nbformat_minor": 2
}
