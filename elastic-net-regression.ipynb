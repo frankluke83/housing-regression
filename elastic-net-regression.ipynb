{
 "cells": [
  {
   "cell_type": "markdown",
   "metadata": {},
   "source": [
    "# Elastic Net Regression"
   ]
  },
  {
   "cell_type": "code",
   "execution_count": 50,
   "metadata": {},
   "outputs": [],
   "source": [
    "%matplotlib inline\n",
    "import numpy as np\n",
    "import pandas as pd\n",
    "from pandas import Series, DataFrame\n",
    "import pickle\n",
    "from sklearn.metrics import mean_squared_error as mse\n",
    "from sklearn.model_selection import cross_val_score,KFold\n",
    "from sklearn.linear_model import ElasticNet, ElasticNetCV\n",
    "import warnings\n",
    "\n",
    "\n",
    "warnings.filterwarnings(\"ignore\")\n",
    "\n",
    "# environment settings\n",
    "data_path = 'Data/'\n",
    "\n",
    "# Deserialize previously saved data from \"preprocessing\"\n",
    "with open(data_path+'train_pp.obj', 'rb') as train_pp, \\\n",
    "open(data_path+'test_pp.obj','rb') as test_pp:\n",
    "    train_df = pickle.load(train_pp)\n",
    "    test_df = pickle.load(test_pp)\n",
    "train_df[\"SalePrice\"] = np.log1p(train_df[\"SalePrice\"])"
   ]
  },
  {
   "cell_type": "code",
   "execution_count": 51,
   "metadata": {},
   "outputs": [
    {
     "name": "stdout",
     "output_type": "stream",
     "text": [
      "Shape of training set (1460, 303).\n",
      "Shape of test set (1460,)\n"
     ]
    }
   ],
   "source": [
    "X = train_df.loc[:,'Id':'SaleCondition_Partial']\n",
    "y = train_df['SalePrice']\n",
    "print(\"Shape of training set {}.\\nShape of test set {}\".format(X.shape,y.shape))"
   ]
  },
  {
   "cell_type": "code",
   "execution_count": 52,
   "metadata": {},
   "outputs": [
    {
     "name": "stdout",
     "output_type": "stream",
     "text": [
      "The 10-fold crossvalidation RMSE of ENet is 0.12564 +/- 0.015 , alpha :0.001\n"
     ]
    }
   ],
   "source": [
    "ENet = ElasticNetCV(alphas = [1, 0.1, 0.001, 0.0005],\n",
    "                      cv=KFold(10, shuffle=True, \n",
    "                       random_state=1)).fit(X, y)\n",
    "kf = KFold(5, shuffle=True, random_state=42).get_n_splits(X)\n",
    "rmse_cv_enet= np.sqrt(-cross_val_score(ENet, X, y, scoring=\"neg_mean_squared_error\", cv = kf))\n",
    "\n",
    "\n",
    "print(\"The 10-fold crossvalidation RMSE of ENet is {:.5f} +/- {:.3f} , alpha :{}\".format(rmse_cv_enet.mean(),\n",
    "                                                                                          rmse_cv_enet.std(),\n",
    "                                                                                          ENet.alpha_))"
   ]
  },
  {
   "cell_type": "code",
   "execution_count": 53,
   "metadata": {},
   "outputs": [
    {
     "name": "stdout",
     "output_type": "stream",
     "text": [
      "The 10-fold crossvalidation RMSE of Elastic Net is 0.12269 +/- 0.023\n"
     ]
    }
   ],
   "source": [
    "ENet = ElasticNet(alpha=0.001, l1_ratio=.45, random_state=1)\n",
    "kf = KFold(10, shuffle=True, random_state=42).get_n_splits(X)\n",
    "rmse_cv_enet= np.sqrt(-cross_val_score(ENet, X, y, scoring=\"neg_mean_squared_error\", cv = kf))\n",
    "print(\"The 10-fold crossvalidation RMSE of Elastic Net is {:.5f} +/- {:.3f}\".format(rmse_cv_enet.mean(),\n",
    "                                                                                          rmse_cv_enet.std()))\n"
   ]
  },
  {
   "cell_type": "code",
   "execution_count": 54,
   "metadata": {
    "collapsed": true
   },
   "outputs": [],
   "source": [
    "#Prediction on real test set using ENet\n",
    "ENet = ElasticNet(alpha=0.001,l1_ratio=.45)\n",
    "ENet.fit(X,y)\n",
    "pred_results =ENet.predict(test_df)\n",
    "pred_results = np.expm1(pred_results)\n",
    "result_df = pd.DataFrame(data={'Id': test_df[\"Id\"].values,\n",
    "                               'SalePrice': pred_results})\n",
    "#Create output csv file\n",
    "result_df.to_csv(data_path+\"outputs/enet_001\", index=False)"
   ]
  },
  {
   "cell_type": "code",
   "execution_count": null,
   "metadata": {
    "collapsed": true
   },
   "outputs": [],
   "source": []
  }
 ],
 "metadata": {
  "kernelspec": {
   "display_name": "Python 3",
   "language": "python",
   "name": "python3"
  },
  "language_info": {
   "codemirror_mode": {
    "name": "ipython",
    "version": 3
   },
   "file_extension": ".py",
   "mimetype": "text/x-python",
   "name": "python",
   "nbconvert_exporter": "python",
   "pygments_lexer": "ipython3",
   "version": "3.6.2"
  }
 },
 "nbformat": 4,
 "nbformat_minor": 2
}
